{
 "cells": [
  {
   "cell_type": "code",
   "execution_count": 1,
   "metadata": {
    "id": "9cFGZhqGDKrf"
   },
   "outputs": [],
   "source": [
    "import numpy as np\n",
    "import matplotlib.pyplot as plt\n",
    "import pickle\n",
    "import keras\n",
    "import tensorflow as tf\n",
    "from keras.layers import Dense, Conv2D, MaxPool2D, Dropout, Flatten\n",
    "from tensorflow.keras.applications import VGG19\n",
    "from keras.models import Sequential\n",
    "from tensorflow.keras.preprocessing import image\n",
    "from tensorflow.keras.callbacks import ModelCheckpoint, CSVLogger, ReduceLROnPlateau, EarlyStopping, TensorBoard\n",
    "from tensorflow.keras.layers import Conv2D, BatchNormalization, Activation, MaxPool2D, Conv2DTranspose, Concatenate, Input"
   ]
  },
  {
   "cell_type": "code",
   "execution_count": 2,
   "metadata": {
    "colab": {
     "base_uri": "https://localhost:8080/"
    },
    "id": "DkDBOLsBOhsf",
    "outputId": "2a1c35b8-be69-4528-adf4-19423d2cd8f3"
   },
   "outputs": [],
   "source": [
    "classnames=['COVID','NORMAL','Viral_Pneumonia']"
   ]
  },
  {
   "cell_type": "raw",
   "metadata": {
    "id": "v2IQOEzOSZSm"
   },
   "source": []
  },
  {
   "cell_type": "code",
   "execution_count": null,
   "metadata": {
    "id": "Rchv6-QMScb_"
   },
   "outputs": [],
   "source": [
    "# Transfer learning_Model_(VGG19)"
   ]
  },
  {
   "cell_type": "code",
   "execution_count": null,
   "metadata": {},
   "outputs": [],
   "source": [
    "from keras.layers import Input, Lambda, Dense, Flatten\n",
    "from keras.models import Model\n",
    "from keras.applications.vgg16 import VGG16\n",
    "from keras.applications.vgg16 import preprocess_input\n",
    "from keras.preprocessing import image\n",
    "from keras.preprocessing.image import ImageDataGenerator\n",
    "from keras.models import Sequential\n",
    "import numpy as np\n",
    "from glob import glob\n",
    "import matplotlib.pyplot as plt\n",
    "\n",
    "# re-size all the images to this\n",
    "IMAGE_SIZE = [299, 299]\n",
    "\n",
    "\n",
    "\n",
    "# add preprocessing layer to the front of VGG\n",
    "vgg = VGG19(input_shape=IMAGE_SIZE + [3], weights='imagenet', include_top=False)\n",
    "\n",
    "# don't train existing weights\n",
    "for layer in vgg.layers:\n",
    "  layer.trainable = False\n",
    "  \n",
    "x = Flatten()(vgg.output)\n",
    "\n",
    "prediction = Dense(3, activation='softmax')(x)\n",
    "\n",
    "# create a model object\n",
    "model = Model(inputs=vgg.input, outputs=prediction)\n",
    "\n",
    "model.compile(loss='categorical_crossentropy',optimizer = \"adam\",metrics = ['acc'])\n",
    "\n",
    "# view the structure of the model\n",
    "model.summary()"
   ]
  },
  {
   "cell_type": "code",
   "execution_count": null,
   "metadata": {
    "colab": {
     "base_uri": "https://localhost:8080/"
    },
    "id": "WP779MNOVW_3",
    "outputId": "50eb7628-01dc-4e14-a022-25936e34d84a"
   },
   "outputs": [],
   "source": []
  },
  {
   "cell_type": "code",
   "execution_count": 5,
   "metadata": {},
   "outputs": [],
   "source": [
    "\n",
    "# Fitting the CNN to the images\n",
    "from keras.preprocessing.image import ImageDataGenerator\n",
    "train_datagen = ImageDataGenerator(rescale = 1./255,\n",
    "                                   shear_range = 0.2,\n",
    "                                   zoom_range = 0.2,\n",
    "                                   horizontal_flip = True)"
   ]
  },
  {
   "cell_type": "code",
   "execution_count": 6,
   "metadata": {},
   "outputs": [
    {
     "name": "stdout",
     "output_type": "stream",
     "text": [
      "Found 4500 images belonging to 3 classes.\n"
     ]
    }
   ],
   "source": [
    "training_set = train_datagen.flow_from_directory('DATASET/TRAIN',\n",
    "                                                 target_size = (299, 299),\n",
    "                                                 batch_size = 32,\n",
    "                                                 class_mode = 'categorical',classes=classnames)"
   ]
  },
  {
   "cell_type": "code",
   "execution_count": 7,
   "metadata": {},
   "outputs": [
    {
     "name": "stdout",
     "output_type": "stream",
     "text": [
      "Found 1045 images belonging to 3 classes.\n"
     ]
    }
   ],
   "source": [
    "test_datagen = ImageDataGenerator(rescale=1./255)\n",
    "test_set = test_datagen.flow_from_directory(\n",
    "        'DATASET/TEST',\n",
    "        target_size=(299, 299),\n",
    "        batch_size=32,\n",
    "        class_mode='categorical',classes=classnames)"
   ]
  },
  {
   "cell_type": "code",
   "execution_count": 8,
   "metadata": {},
   "outputs": [],
   "source": [
    "import os\n",
    "os.environ[\"TF_CPP_MIN_LOG_LEVEL\"] = \"2\"\n",
    "lr = 1e-4\n",
    "num_epochs = 100\n",
    "model_path = os.path.join(\"files\", \"model.h5\")\n",
    "csv_path = os.path.join(\"files\", \"data.csv\")"
   ]
  },
  {
   "cell_type": "markdown",
   "metadata": {
    "id": "1pEI_XoO2yq2"
   },
   "source": []
  },
  {
   "cell_type": "code",
   "execution_count": 10,
   "metadata": {
    "colab": {
     "base_uri": "https://localhost:8080/"
    },
    "id": "Gw51N4WWVt5e",
    "outputId": "2ef666c1-c7db-4f73-9f75-ea8889183d2c"
   },
   "outputs": [
    {
     "name": "stderr",
     "output_type": "stream",
     "text": [
      "C:\\Users\\CSE AI\\.conda\\envs\\tf\\lib\\site-packages\\ipykernel_launcher.py:9: UserWarning: `Model.fit_generator` is deprecated and will be removed in a future version. Please use `Model.fit`, which supports generators.\n",
      "  if __name__ == \"__main__\":\n"
     ]
    },
    {
     "name": "stdout",
     "output_type": "stream",
     "text": [
      "Epoch 1/50\n",
      "141/141 [==============================] - ETA: 0s - loss: 0.1715 - acc: 0.9364\n",
      "Epoch 1: val_loss improved from inf to 0.34160, saving model to files\\model.h5\n",
      "141/141 [==============================] - 77s 546ms/step - loss: 0.1715 - acc: 0.9364 - val_loss: 0.3416 - val_acc: 0.8766 - lr: 0.0010\n",
      "Epoch 2/50\n",
      "141/141 [==============================] - ETA: 0s - loss: 0.1773 - acc: 0.9380\n",
      "Epoch 2: val_loss improved from 0.34160 to 0.25344, saving model to files\\model.h5\n",
      "141/141 [==============================] - 77s 543ms/step - loss: 0.1773 - acc: 0.9380 - val_loss: 0.2534 - val_acc: 0.8947 - lr: 0.0010\n",
      "Epoch 3/50\n",
      "141/141 [==============================] - ETA: 0s - loss: 0.1990 - acc: 0.9304\n",
      "Epoch 3: val_loss did not improve from 0.25344\n",
      "141/141 [==============================] - 76s 539ms/step - loss: 0.1990 - acc: 0.9304 - val_loss: 0.2590 - val_acc: 0.9043 - lr: 0.0010\n",
      "Epoch 4/50\n",
      "141/141 [==============================] - ETA: 0s - loss: 0.1692 - acc: 0.9396\n",
      "Epoch 4: val_loss improved from 0.25344 to 0.19384, saving model to files\\model.h5\n",
      "141/141 [==============================] - 77s 546ms/step - loss: 0.1692 - acc: 0.9396 - val_loss: 0.1938 - val_acc: 0.9330 - lr: 0.0010\n",
      "Epoch 5/50\n",
      "141/141 [==============================] - ETA: 0s - loss: 0.2060 - acc: 0.9276\n",
      "Epoch 5: val_loss did not improve from 0.19384\n",
      "141/141 [==============================] - 78s 549ms/step - loss: 0.2060 - acc: 0.9276 - val_loss: 0.4000 - val_acc: 0.8804 - lr: 0.0010\n",
      "Epoch 6/50\n",
      "141/141 [==============================] - ETA: 0s - loss: 0.1949 - acc: 0.9311\n",
      "Epoch 6: val_loss did not improve from 0.19384\n",
      "141/141 [==============================] - 76s 540ms/step - loss: 0.1949 - acc: 0.9311 - val_loss: 0.2530 - val_acc: 0.9129 - lr: 0.0010\n",
      "Epoch 7/50\n",
      "141/141 [==============================] - ETA: 0s - loss: 0.2288 - acc: 0.9209\n",
      "Epoch 7: val_loss did not improve from 0.19384\n",
      "141/141 [==============================] - 76s 541ms/step - loss: 0.2288 - acc: 0.9209 - val_loss: 0.7604 - val_acc: 0.7914 - lr: 0.0010\n",
      "Epoch 8/50\n",
      "141/141 [==============================] - ETA: 0s - loss: 0.1348 - acc: 0.9531\n",
      "Epoch 8: val_loss did not improve from 0.19384\n",
      "141/141 [==============================] - 76s 539ms/step - loss: 0.1348 - acc: 0.9531 - val_loss: 0.6314 - val_acc: 0.8211 - lr: 0.0010\n",
      "Epoch 9/50\n",
      "141/141 [==============================] - ETA: 0s - loss: 0.1901 - acc: 0.9344\n",
      "Epoch 9: val_loss did not improve from 0.19384\n",
      "\n",
      "Epoch 9: ReduceLROnPlateau reducing learning rate to 0.00010000000474974513.\n",
      "141/141 [==============================] - 78s 548ms/step - loss: 0.1901 - acc: 0.9344 - val_loss: 0.5117 - val_acc: 0.8603 - lr: 0.0010\n",
      "Epoch 10/50\n",
      "141/141 [==============================] - ETA: 0s - loss: 0.0978 - acc: 0.9647\n",
      "Epoch 10: val_loss did not improve from 0.19384\n",
      "141/141 [==============================] - 76s 538ms/step - loss: 0.0978 - acc: 0.9647 - val_loss: 0.3508 - val_acc: 0.8919 - lr: 1.0000e-04\n",
      "Epoch 11/50\n",
      "141/141 [==============================] - ETA: 0s - loss: 0.0952 - acc: 0.9627\n",
      "Epoch 11: val_loss did not improve from 0.19384\n",
      "141/141 [==============================] - 76s 540ms/step - loss: 0.0952 - acc: 0.9627 - val_loss: 0.4310 - val_acc: 0.8785 - lr: 1.0000e-04\n",
      "Epoch 12/50\n",
      "141/141 [==============================] - ETA: 0s - loss: 0.0781 - acc: 0.9709\n",
      "Epoch 12: val_loss did not improve from 0.19384\n",
      "141/141 [==============================] - 76s 539ms/step - loss: 0.0781 - acc: 0.9709 - val_loss: 0.4085 - val_acc: 0.8794 - lr: 1.0000e-04\n",
      "Epoch 13/50\n",
      "141/141 [==============================] - ETA: 0s - loss: 0.0756 - acc: 0.9733\n",
      "Epoch 13: val_loss did not improve from 0.19384\n",
      "141/141 [==============================] - 76s 538ms/step - loss: 0.0756 - acc: 0.9733 - val_loss: 0.3424 - val_acc: 0.8852 - lr: 1.0000e-04\n",
      "Epoch 14/50\n",
      "141/141 [==============================] - ETA: 0s - loss: 0.0707 - acc: 0.9773\n",
      "Epoch 14: val_loss did not improve from 0.19384\n",
      "\n",
      "Epoch 14: ReduceLROnPlateau reducing learning rate to 1.0000000474974514e-05.\n",
      "141/141 [==============================] - 77s 543ms/step - loss: 0.0707 - acc: 0.9773 - val_loss: 0.3270 - val_acc: 0.8947 - lr: 1.0000e-04\n",
      "Epoch 15/50\n",
      "141/141 [==============================] - ETA: 0s - loss: 0.0781 - acc: 0.9702\n",
      "Epoch 15: val_loss did not improve from 0.19384\n",
      "141/141 [==============================] - 77s 544ms/step - loss: 0.0781 - acc: 0.9702 - val_loss: 0.3216 - val_acc: 0.8871 - lr: 1.0000e-05\n",
      "Epoch 16/50\n",
      "141/141 [==============================] - ETA: 0s - loss: 0.0740 - acc: 0.9704\n",
      "Epoch 16: val_loss did not improve from 0.19384\n",
      "141/141 [==============================] - 78s 553ms/step - loss: 0.0740 - acc: 0.9704 - val_loss: 0.3250 - val_acc: 0.8890 - lr: 1.0000e-05\n",
      "Epoch 17/50\n",
      "141/141 [==============================] - ETA: 0s - loss: 0.0714 - acc: 0.9747\n",
      "Epoch 17: val_loss did not improve from 0.19384\n",
      "141/141 [==============================] - 79s 559ms/step - loss: 0.0714 - acc: 0.9747 - val_loss: 0.3487 - val_acc: 0.8833 - lr: 1.0000e-05\n",
      "Epoch 18/50\n",
      "141/141 [==============================] - ETA: 0s - loss: 0.0744 - acc: 0.9738\n",
      "Epoch 18: val_loss did not improve from 0.19384\n",
      "141/141 [==============================] - 78s 550ms/step - loss: 0.0744 - acc: 0.9738 - val_loss: 0.2975 - val_acc: 0.8909 - lr: 1.0000e-05\n",
      "Epoch 19/50\n",
      "141/141 [==============================] - ETA: 0s - loss: 0.0684 - acc: 0.9749\n",
      "Epoch 19: val_loss did not improve from 0.19384\n",
      "\n",
      "Epoch 19: ReduceLROnPlateau reducing learning rate to 1.0000000656873453e-06.\n",
      "141/141 [==============================] - 77s 545ms/step - loss: 0.0684 - acc: 0.9749 - val_loss: 0.3192 - val_acc: 0.8890 - lr: 1.0000e-05\n",
      "Epoch 20/50\n",
      "141/141 [==============================] - ETA: 0s - loss: 0.0774 - acc: 0.9720\n",
      "Epoch 20: val_loss did not improve from 0.19384\n",
      "141/141 [==============================] - 76s 540ms/step - loss: 0.0774 - acc: 0.9720 - val_loss: 0.3223 - val_acc: 0.8890 - lr: 1.0000e-06\n",
      "Epoch 21/50\n",
      "141/141 [==============================] - ETA: 0s - loss: 0.0719 - acc: 0.9751\n",
      "Epoch 21: val_loss did not improve from 0.19384\n",
      "141/141 [==============================] - 76s 539ms/step - loss: 0.0719 - acc: 0.9751 - val_loss: 0.3223 - val_acc: 0.8890 - lr: 1.0000e-06\n",
      "Epoch 22/50\n",
      "141/141 [==============================] - ETA: 0s - loss: 0.0677 - acc: 0.9762\n",
      "Epoch 22: val_loss did not improve from 0.19384\n",
      "141/141 [==============================] - 76s 540ms/step - loss: 0.0677 - acc: 0.9762 - val_loss: 0.3265 - val_acc: 0.8900 - lr: 1.0000e-06\n",
      "Epoch 23/50\n",
      "141/141 [==============================] - ETA: 0s - loss: 0.0762 - acc: 0.9720\n",
      "Epoch 23: val_loss did not improve from 0.19384\n",
      "141/141 [==============================] - 76s 539ms/step - loss: 0.0762 - acc: 0.9720 - val_loss: 0.3232 - val_acc: 0.8890 - lr: 1.0000e-06\n",
      "Epoch 24/50\n",
      "141/141 [==============================] - ETA: 0s - loss: 0.0651 - acc: 0.9749\n",
      "Epoch 24: val_loss did not improve from 0.19384\n",
      "\n",
      "Epoch 24: ReduceLROnPlateau reducing learning rate to 1e-06.\n",
      "141/141 [==============================] - 76s 539ms/step - loss: 0.0651 - acc: 0.9749 - val_loss: 0.3231 - val_acc: 0.8890 - lr: 1.0000e-06\n",
      "Epoch 25/50\n",
      "141/141 [==============================] - ETA: 0s - loss: 0.0829 - acc: 0.9702\n",
      "Epoch 25: val_loss did not improve from 0.19384\n",
      "141/141 [==============================] - 76s 539ms/step - loss: 0.0829 - acc: 0.9702 - val_loss: 0.3257 - val_acc: 0.8900 - lr: 1.0000e-06\n",
      "Epoch 26/50\n",
      "141/141 [==============================] - ETA: 0s - loss: 0.0715 - acc: 0.9740\n",
      "Epoch 26: val_loss did not improve from 0.19384\n",
      "141/141 [==============================] - 76s 540ms/step - loss: 0.0715 - acc: 0.9740 - val_loss: 0.3245 - val_acc: 0.8890 - lr: 1.0000e-06\n",
      "Epoch 27/50\n",
      "141/141 [==============================] - ETA: 0s - loss: 0.0766 - acc: 0.9738\n",
      "Epoch 27: val_loss did not improve from 0.19384\n",
      "141/141 [==============================] - 76s 537ms/step - loss: 0.0766 - acc: 0.9738 - val_loss: 0.3212 - val_acc: 0.8890 - lr: 1.0000e-06\n",
      "Epoch 28/50\n",
      "141/141 [==============================] - ETA: 0s - loss: 0.0740 - acc: 0.9738\n",
      "Epoch 28: val_loss did not improve from 0.19384\n",
      "141/141 [==============================] - 76s 539ms/step - loss: 0.0740 - acc: 0.9738 - val_loss: 0.3165 - val_acc: 0.8900 - lr: 1.0000e-06\n"
     ]
    },
    {
     "name": "stdout",
     "output_type": "stream",
     "text": [
      "Epoch 29/50\n",
      "141/141 [==============================] - ETA: 0s - loss: 0.0769 - acc: 0.9696\n",
      "Epoch 29: val_loss did not improve from 0.19384\n",
      "141/141 [==============================] - 108s 767ms/step - loss: 0.0769 - acc: 0.9696 - val_loss: 0.3184 - val_acc: 0.8890 - lr: 1.0000e-06\n",
      "Epoch 30/50\n",
      "141/141 [==============================] - ETA: 0s - loss: 0.0735 - acc: 0.9742\n",
      "Epoch 30: val_loss did not improve from 0.19384\n",
      "141/141 [==============================] - 75s 533ms/step - loss: 0.0735 - acc: 0.9742 - val_loss: 0.3199 - val_acc: 0.8890 - lr: 1.0000e-06\n",
      "Epoch 31/50\n",
      "141/141 [==============================] - ETA: 0s - loss: 0.0678 - acc: 0.9740\n",
      "Epoch 31: val_loss did not improve from 0.19384\n",
      "141/141 [==============================] - 76s 534ms/step - loss: 0.0678 - acc: 0.9740 - val_loss: 0.3221 - val_acc: 0.8890 - lr: 1.0000e-06\n",
      "Epoch 32/50\n",
      "141/141 [==============================] - ETA: 0s - loss: 0.0737 - acc: 0.9718\n",
      "Epoch 32: val_loss did not improve from 0.19384\n",
      "141/141 [==============================] - 75s 534ms/step - loss: 0.0737 - acc: 0.9718 - val_loss: 0.3228 - val_acc: 0.8890 - lr: 1.0000e-06\n",
      "Epoch 33/50\n",
      "141/141 [==============================] - ETA: 0s - loss: 0.0673 - acc: 0.9753\n",
      "Epoch 33: val_loss did not improve from 0.19384\n",
      "141/141 [==============================] - 75s 534ms/step - loss: 0.0673 - acc: 0.9753 - val_loss: 0.3190 - val_acc: 0.8890 - lr: 1.0000e-06\n",
      "Epoch 34/50\n",
      "141/141 [==============================] - ETA: 0s - loss: 0.0732 - acc: 0.9738\n",
      "Epoch 34: val_loss did not improve from 0.19384\n",
      "141/141 [==============================] - 76s 535ms/step - loss: 0.0732 - acc: 0.9738 - val_loss: 0.3200 - val_acc: 0.8890 - lr: 1.0000e-06\n",
      "Epoch 35/50\n",
      "141/141 [==============================] - ETA: 0s - loss: 0.0716 - acc: 0.9744\n",
      "Epoch 35: val_loss did not improve from 0.19384\n",
      "141/141 [==============================] - 75s 534ms/step - loss: 0.0716 - acc: 0.9744 - val_loss: 0.3294 - val_acc: 0.8890 - lr: 1.0000e-06\n",
      "Epoch 36/50\n",
      "141/141 [==============================] - ETA: 0s - loss: 0.0757 - acc: 0.9738\n",
      "Epoch 36: val_loss did not improve from 0.19384\n",
      "141/141 [==============================] - 76s 534ms/step - loss: 0.0757 - acc: 0.9738 - val_loss: 0.3311 - val_acc: 0.8861 - lr: 1.0000e-06\n",
      "Epoch 37/50\n",
      "141/141 [==============================] - ETA: 0s - loss: 0.0737 - acc: 0.9711\n",
      "Epoch 37: val_loss did not improve from 0.19384\n",
      "141/141 [==============================] - 76s 535ms/step - loss: 0.0737 - acc: 0.9711 - val_loss: 0.3274 - val_acc: 0.8890 - lr: 1.0000e-06\n",
      "Epoch 38/50\n",
      "141/141 [==============================] - ETA: 0s - loss: 0.0679 - acc: 0.9758\n",
      "Epoch 38: val_loss did not improve from 0.19384\n",
      "141/141 [==============================] - 76s 534ms/step - loss: 0.0679 - acc: 0.9758 - val_loss: 0.3230 - val_acc: 0.8890 - lr: 1.0000e-06\n",
      "Epoch 39/50\n",
      "141/141 [==============================] - ETA: 0s - loss: 0.0697 - acc: 0.9747\n",
      "Epoch 39: val_loss did not improve from 0.19384\n",
      "141/141 [==============================] - 75s 533ms/step - loss: 0.0697 - acc: 0.9747 - val_loss: 0.3207 - val_acc: 0.8890 - lr: 1.0000e-06\n",
      "Epoch 40/50\n",
      "141/141 [==============================] - ETA: 0s - loss: 0.0714 - acc: 0.9733\n",
      "Epoch 40: val_loss did not improve from 0.19384\n",
      "141/141 [==============================] - 76s 539ms/step - loss: 0.0714 - acc: 0.9733 - val_loss: 0.3333 - val_acc: 0.8871 - lr: 1.0000e-06\n",
      "Epoch 41/50\n",
      "141/141 [==============================] - ETA: 0s - loss: 0.0763 - acc: 0.9740\n",
      "Epoch 41: val_loss did not improve from 0.19384\n",
      "141/141 [==============================] - 76s 538ms/step - loss: 0.0763 - acc: 0.9740 - val_loss: 0.3257 - val_acc: 0.8890 - lr: 1.0000e-06\n",
      "Epoch 42/50\n",
      "141/141 [==============================] - ETA: 0s - loss: 0.0725 - acc: 0.9764\n",
      "Epoch 42: val_loss did not improve from 0.19384\n",
      "141/141 [==============================] - 77s 545ms/step - loss: 0.0725 - acc: 0.9764 - val_loss: 0.3177 - val_acc: 0.8890 - lr: 1.0000e-06\n",
      "Epoch 43/50\n",
      "141/141 [==============================] - ETA: 0s - loss: 0.0755 - acc: 0.9713\n",
      "Epoch 43: val_loss did not improve from 0.19384\n",
      "141/141 [==============================] - 79s 560ms/step - loss: 0.0755 - acc: 0.9713 - val_loss: 0.3130 - val_acc: 0.8900 - lr: 1.0000e-06\n",
      "Epoch 44/50\n",
      "141/141 [==============================] - ETA: 0s - loss: 0.0697 - acc: 0.9727\n",
      "Epoch 44: val_loss did not improve from 0.19384\n",
      "141/141 [==============================] - 77s 545ms/step - loss: 0.0697 - acc: 0.9727 - val_loss: 0.3191 - val_acc: 0.8890 - lr: 1.0000e-06\n",
      "Epoch 45/50\n",
      "141/141 [==============================] - ETA: 0s - loss: 0.0727 - acc: 0.9724\n",
      "Epoch 45: val_loss did not improve from 0.19384\n",
      "141/141 [==============================] - 77s 543ms/step - loss: 0.0727 - acc: 0.9724 - val_loss: 0.3195 - val_acc: 0.8890 - lr: 1.0000e-06\n",
      "Epoch 46/50\n",
      "141/141 [==============================] - ETA: 0s - loss: 0.0680 - acc: 0.9769\n",
      "Epoch 46: val_loss did not improve from 0.19384\n",
      "141/141 [==============================] - 77s 543ms/step - loss: 0.0680 - acc: 0.9769 - val_loss: 0.3107 - val_acc: 0.8900 - lr: 1.0000e-06\n",
      "Epoch 47/50\n",
      "141/141 [==============================] - ETA: 0s - loss: 0.0727 - acc: 0.9751\n",
      "Epoch 47: val_loss did not improve from 0.19384\n",
      "141/141 [==============================] - 77s 544ms/step - loss: 0.0727 - acc: 0.9751 - val_loss: 0.3086 - val_acc: 0.8900 - lr: 1.0000e-06\n",
      "Epoch 48/50\n",
      "141/141 [==============================] - ETA: 0s - loss: 0.0720 - acc: 0.9753\n",
      "Epoch 48: val_loss did not improve from 0.19384\n",
      "141/141 [==============================] - 77s 544ms/step - loss: 0.0720 - acc: 0.9753 - val_loss: 0.3221 - val_acc: 0.8890 - lr: 1.0000e-06\n",
      "Epoch 49/50\n",
      "141/141 [==============================] - ETA: 0s - loss: 0.0667 - acc: 0.9760\n",
      "Epoch 49: val_loss did not improve from 0.19384\n",
      "141/141 [==============================] - 77s 543ms/step - loss: 0.0667 - acc: 0.9760 - val_loss: 0.3374 - val_acc: 0.8842 - lr: 1.0000e-06\n",
      "Epoch 50/50\n",
      "141/141 [==============================] - ETA: 0s - loss: 0.0656 - acc: 0.9764\n",
      "Epoch 50: val_loss did not improve from 0.19384\n",
      "141/141 [==============================] - 78s 555ms/step - loss: 0.0656 - acc: 0.9764 - val_loss: 0.3212 - val_acc: 0.8890 - lr: 1.0000e-06\n"
     ]
    }
   ],
   "source": [
    "callbacks = [\n",
    "        ModelCheckpoint(model_path, verbose=1, save_best_only=True),\n",
    "        ReduceLROnPlateau(monitor=\"val_loss\", factor=0.1, patience=5, min_lr=1e-6, verbose=1),\n",
    "        CSVLogger(csv_path),\n",
    "        TensorBoard()]\n",
    "history=model.fit_generator(training_set, \n",
    "        epochs=50,\n",
    "        validation_data = test_set,\n",
    "        callbacks=callbacks)"
   ]
  },
  {
   "cell_type": "code",
   "execution_count": 11,
   "metadata": {},
   "outputs": [
    {
     "name": "stdout",
     "output_type": "stream",
     "text": [
      "dict_keys(['loss', 'acc', 'val_loss', 'val_acc', 'lr'])\n"
     ]
    }
   ],
   "source": [
    "print(history.history.keys())\n"
   ]
  },
  {
   "cell_type": "code",
   "execution_count": 12,
   "metadata": {},
   "outputs": [],
   "source": [
    "import matplotlib.image as mpimg"
   ]
  },
  {
   "cell_type": "code",
   "execution_count": 13,
   "metadata": {},
   "outputs": [
    {
     "name": "stdout",
     "output_type": "stream",
     "text": [
      "dict_keys(['loss', 'acc', 'val_loss', 'val_acc', 'lr'])\n"
     ]
    },
    {
     "data": {
      "image/png": "[encoded data removed]",
      "text/plain": [
       "<Figure size 432x288 with 1 Axes>"
      ]
     },
     "metadata": {
      "needs_background": "light"
     },
     "output_type": "display_data"
    }
   ],
   "source": [
    "print(history.history.keys())\n",
    "import matplotlib.pyplot as plt\n",
    "# summarize model for accuracy\n",
    "plt.plot(history.history['acc'])\n",
    "plt.plot(history.history['val_acc'])\n",
    "plt.title('model accuracy')\n",
    "plt.ylabel('accuracy')\n",
    "plt.xlabel('epoch')\n",
    "plt.legend(['train', 'test'], loc='upper left')\n",
    "plt.show()"
   ]
  },
  {
   "cell_type": "code",
   "execution_count": 14,
   "metadata": {},
   "outputs": [
    {
     "data": {
      "image/png": "[encoded data removed]",
      "text/plain": [
       "<Figure size 432x288 with 1 Axes>"
      ]
     },
     "metadata": {
      "needs_background": "light"
     },
     "output_type": "display_data"
    }
   ],
   "source": [
    "plt.plot(history.history['loss'])\n",
    "plt.plot(history.history['val_loss'])\n",
    "plt.title('model loss')\n",
    "plt.ylabel('loss')\n",
    "plt.xlabel('epoch')\n",
    "plt.legend(['train', 'test'], loc='upper left')\n",
    "plt.show()\n"
   ]
  },
  {
   "cell_type": "code",
   "execution_count": null,
   "metadata": {},
   "outputs": [],
   "source": []
  },
  {
   "cell_type": "code",
   "execution_count": null,
   "metadata": {},
   "outputs": [],
   "source": []
  },
  {
   "cell_type": "code",
   "execution_count": null,
   "metadata": {},
   "outputs": [],
   "source": []
  },
  {
   "cell_type": "code",
   "execution_count": null,
   "metadata": {},
   "outputs": [],
   "source": []
  },
  {
   "cell_type": "code",
   "execution_count": null,
   "metadata": {
    "colab": {
     "base_uri": "https://localhost:8080/"
    },
    "id": "3rsLAy7lZ2_J",
    "outputId": "ef5ba9e5-bd66-4b9a-8324-f783713ee692"
   },
   "outputs": [],
   "source": [
    "path =\"Normal-42.png\"\n",
    "img = image.load_img(path, target_size=(299,299))\n",
    "img = image.img_to_array(img)/255\n",
    "img = np.array([img])\n",
    "img.shape"
   ]
  },
  {
   "cell_type": "code",
   "execution_count": null,
   "metadata": {
    "colab": {
     "base_uri": "https://localhost:8080/"
    },
    "id": "KsowyXrDPwI2",
    "outputId": "686ebe97-54b8-4632-ad65-01018927f640"
   },
   "outputs": [],
   "source": [
    "path =\"Normal-\"\n",
    "for i in range(41, 50) :\n",
    "    path = \"Normal-\" + str(i) + \".png\"\n",
    "    img = image.load_img(path, target_size=(299,299))\n",
    "    img = image.img_to_array(img)/255\n",
    "    img = np.array([img])\n",
    "    predictions=(model.predict(img))\n",
    "    print(predictions)\n",
    "    predictions = (predictions>0.5).astype(\"int32\")\n",
    "    if predictions==1:\n",
    "      print(\"NORMAL\")\n",
    "    else:\n",
    "      print(\"SOME COVID SYMPTOMS ARE DETECTED IN PATIENTS XRAY\")"
   ]
  },
  {
   "cell_type": "code",
   "execution_count": null,
   "metadata": {
    "colab": {
     "base_uri": "https://localhost:8080/"
    },
    "id": "ZJk12os0Qbe4",
    "outputId": "32823b81-c27a-4219-d639-bf3d860ba5df"
   },
   "outputs": [],
   "source": []
  }
 ],
 "metadata": {
  "accelerator": "GPU",
  "colab": {
   "collapsed_sections": [],
   "name": "COVID PATCH DETECTION BASED ON XRAY USING COV-X MODEL.ipynb",
   "provenance": []
  },
  "kernelspec": {
   "display_name": "Python 3 (ipykernel)",
   "language": "python",
   "name": "python3"
  },
  "language_info": {
   "codemirror_mode": {
    "name": "ipython",
    "version": 3
   },
   "file_extension": ".py",
   "mimetype": "text/x-python",
   "name": "python",
   "nbconvert_exporter": "python",
   "pygments_lexer": "ipython3",
   "version": "3.7.13"
  }
 },
 "nbformat": 4,
 "nbformat_minor": 1
}
